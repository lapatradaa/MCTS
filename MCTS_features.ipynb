{
  "nbformat": 4,
  "nbformat_minor": 0,
  "metadata": {
    "colab": {
      "provenance": [],
      "authorship_tag": "ABX9TyOQNaSaBKHqgWXfPq2+FXya",
      "include_colab_link": true
    },
    "kernelspec": {
      "name": "python3",
      "display_name": "Python 3"
    },
    "language_info": {
      "name": "python"
    }
  },
  "cells": [
    {
      "cell_type": "markdown",
      "metadata": {
        "id": "view-in-github",
        "colab_type": "text"
      },
      "source": [
        "<a href=\"https://colab.research.google.com/github/lapatradaa/MCTS/blob/main/MCTS_features.ipynb\" target=\"_parent\"><img src=\"https://colab.research.google.com/assets/colab-badge.svg\" alt=\"Open In Colab\"/></a>"
      ]
    },
    {
      "cell_type": "code",
      "execution_count": 1,
      "metadata": {
        "colab": {
          "base_uri": "https://localhost:8080/"
        },
        "id": "SdDh7nUSTHym",
        "outputId": "2a85d6d9-41d8-4d44-aa92-43d360b709de"
      },
      "outputs": [
        {
          "output_type": "stream",
          "name": "stdout",
          "text": [
            "[Errno 2] No such file or directory: 'C:UserspuiguDesktopMCTS'\n",
            "/content\n"
          ]
        }
      ],
      "source": [
        "cd C:\\Users\\puigu\\Desktop\\MCTS"
      ]
    },
    {
      "cell_type": "code",
      "source": [
        "import pandas as pd\n",
        "import numpy as np"
      ],
      "metadata": {
        "id": "IIb7pMeCTJw6"
      },
      "execution_count": 2,
      "outputs": []
    },
    {
      "cell_type": "code",
      "source": [
        "train = pd.read_csv('train.csv')"
      ],
      "metadata": {
        "id": "MYfHlvz6TL7r"
      },
      "execution_count": null,
      "outputs": []
    },
    {
      "cell_type": "code",
      "source": [
        "test = pd.read_csv('test.csv')"
      ],
      "metadata": {
        "id": "euHKDxVnTMOy"
      },
      "execution_count": null,
      "outputs": []
    },
    {
      "cell_type": "code",
      "source": [
        "import pandas as pd\n",
        "\n",
        "def drop_columns(df):\n",
        "    \"\"\"\n",
        "    Drops the specified columns from the DataFrame.\n",
        "\n",
        "    Parameters:\n",
        "    df (pd.DataFrame): The input DataFrame from which columns will be dropped.\n",
        "\n",
        "    Returns:\n",
        "    pd.DataFrame: The DataFrame with the specified columns removed.\n",
        "    \"\"\"\n",
        "    columns_to_drop = ['Id', 'num_wins_agent1', 'num_draws_agent1', 'num_losses_agent1','EnglishRules']\n",
        "\n",
        "    # Drop the specified columns and store in df_cleaned\n",
        "    df_cleaned = df.drop(columns=columns_to_drop, errors='ignore')\n",
        "\n",
        "    return df_cleaned\n"
      ],
      "metadata": {
        "id": "Z-t83P3FTMaJ"
      },
      "execution_count": null,
      "outputs": []
    },
    {
      "cell_type": "code",
      "source": [
        "# Assuming train is your DataFrame\n",
        "train_cleaned = drop_columns(train)\n",
        "\n",
        "# Display the cleaned DataFrame\n",
        "train_cleaned.head(5)"
      ],
      "metadata": {
        "id": "GHFBgxgPTMmI"
      },
      "execution_count": null,
      "outputs": []
    },
    {
      "cell_type": "code",
      "source": [
        "df = train_cleaned"
      ],
      "metadata": {
        "id": "AJosvrfFTNn7"
      },
      "execution_count": null,
      "outputs": []
    },
    {
      "cell_type": "code",
      "source": [
        "import pandas as pd\n",
        "from sklearn.model_selection import train_test_split\n",
        "from sklearn.ensemble import RandomForestRegressor\n",
        "from sklearn.metrics import mean_squared_error\n",
        "import matplotlib.pyplot as plt\n",
        "\n",
        "# Assuming df is your cleaned DataFrame\n",
        "# Separate features (X) and target (y)\n",
        "X = df.drop(columns=['utility_agent1'])  # Drop the target column from features\n",
        "y = df['utility_agent1']  # The target column\n",
        "\n",
        "# Split data into training and validation sets\n",
        "X_train, X_valid, y_train, y_valid = train_test_split(X, y, test_size=0.2, random_state=42)\n"
      ],
      "metadata": {
        "id": "_jDDQYIRTJ_6"
      },
      "execution_count": null,
      "outputs": []
    },
    {
      "cell_type": "code",
      "source": [
        "import pandas as pd\n",
        "from sklearn.model_selection import train_test_split\n",
        "from sklearn.ensemble import RandomForestRegressor\n",
        "from sklearn.metrics import mean_squared_error\n",
        "import matplotlib.pyplot as plt\n",
        "\n",
        "# Assuming df is your original DataFrame with categorical features\n",
        "# One-Hot Encode categorical variables\n",
        "df_encoded = pd.get_dummies(df, columns=['agent1', 'agent2', 'GameRulesetName', 'LudRules'])\n",
        "\n",
        "# Separate features and target\n",
        "X = df_encoded.drop(columns=['utility_agent1'])  # Drop the target column from features\n",
        "y = df_encoded['utility_agent1']  # The target column\n",
        "\n",
        "# Split data into training and validation sets\n",
        "X_train, X_valid, y_train, y_valid = train_test_split(X, y, test_size=0.2, random_state=42)\n",
        "\n",
        "# Initialize the Random Forest Regressor with verbose=1 for basic progress monitoring\n",
        "model = RandomForestRegressor(n_estimators=100, random_state=42, verbose=1)\n",
        "\n",
        "# Train the model with text-based logging\n",
        "print(\"Training the model...\")\n",
        "model.fit(X_train, y_train)\n",
        "\n",
        "# Make predictions on the validation set\n",
        "y_pred = model.predict(X_valid)\n",
        "\n",
        "# Evaluate the model performance (RMSE)\n",
        "mse = mean_squared_error(y_valid, y_pred)\n",
        "rmse = mse ** 0.5\n",
        "print(f'Validation RMSE: {rmse}')\n",
        "\n",
        "# Get feature importance\n",
        "importances = model.feature_importances_\n",
        "\n",
        "# Get feature names\n",
        "feature_names = X.columns\n",
        "\n",
        "# Create a DataFrame to visualize the importance of each feature\n",
        "feature_importance_df = pd.DataFrame({\n",
        "    'Feature': feature_names,\n",
        "    'Importance': importances\n",
        "}).sort_values(by='Importance', ascending=False)\n",
        "\n",
        "# Display the feature importance\n",
        "print(feature_importance_df)\n",
        "\n",
        "# Plot the feature importance\n",
        "plt.figure(figsize=(10, 6))\n",
        "plt.barh(feature_importance_df['Feature'], feature_importance_df['Importance'])\n",
        "plt.xlabel('Importance')\n",
        "plt.ylabel('Feature')\n",
        "plt.title('Feature Importance for Predicting utility_agent1')\n",
        "plt.gca().invert_yaxis()  # Invert y-axis so the most important feature is at the top\n",
        "plt.show()\n"
      ],
      "metadata": {
        "id": "0Cyvk8vrTVbY"
      },
      "execution_count": null,
      "outputs": []
    },
    {
      "cell_type": "code",
      "source": [],
      "metadata": {
        "id": "AxIQPhmETVSa"
      },
      "execution_count": null,
      "outputs": []
    }
  ]
}